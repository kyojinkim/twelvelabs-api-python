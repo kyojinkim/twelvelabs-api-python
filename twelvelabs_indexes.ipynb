{
 "cells": [
  {
   "cell_type": "markdown",
   "metadata": {},
   "source": [
    "# Manage Indexes\n",
    "\n",
    "### SDK\n",
    "https://github.com/twelvelabs-io/twelvelabs-python?tab=readme-ov-file\n",
    "\n",
    "https://github.com/twelvelabs-io/twelvelabs-python/blob/main/API.md\n",
    "\n",
    "### API Reference\n",
    "https://docs.twelvelabs.io/reference/manage-indexes"
   ]
  },
  {
   "cell_type": "markdown",
   "metadata": {},
   "source": [
    "## Variables"
   ]
  },
  {
   "cell_type": "code",
   "execution_count": 1,
   "metadata": {},
   "outputs": [],
   "source": [
    "api_key = \"\""
   ]
  },
  {
   "cell_type": "markdown",
   "metadata": {},
   "source": [
    "## Indexes\n",
    "\n",
    "### Create"
   ]
  },
  {
   "cell_type": "code",
   "execution_count": 2,
   "metadata": {},
   "outputs": [],
   "source": [
    "import uuid\n",
    "\n",
    "index_name = f\"idx-{uuid.uuid4()}\"\n",
    "index_engines =  [\n",
    "    {\n",
    "        \"name\": \"marengo2.6\",\n",
    "        \"options\": [\"visual\", \"conversation\", \"text_in_video\"],\n",
    "    },\n",
    "    {\n",
    "        \"name\": \"pegasus1.1\",\n",
    "        \"options\": [\"visual\", \"conversation\"],\n",
    "    },\n",
    "]\n",
    "index_addons = [\"thumbnail\"]"
   ]
  },
  {
   "cell_type": "code",
   "execution_count": 3,
   "metadata": {},
   "outputs": [
    {
     "name": "stdout",
     "output_type": "stream",
     "text": [
      "Created index, index_id=6719cfb8d4738093bb97ea18 name=idx-3f8c8449-018a-4237-b70c-07e2ad9cb32d\n",
      "    engine_name=marengo2.6 options=['visual', 'conversation', 'text_in_video']\n",
      "    engine_name=pegasus1.1 options=['visual', 'conversation']\n"
     ]
    }
   ],
   "source": [
    "from twelvelabs import TwelveLabs\n",
    "from twelvelabs.models.index import Index\n",
    "\n",
    "import time\n",
    "\n",
    "# Initialize Client\n",
    "client = TwelveLabs(api_key=api_key)\n",
    "\n",
    "# \n",
    "response = client.index.create(\n",
    "    name=index_name,\n",
    "    engines=index_engines,\n",
    "    addons=index_addons,\n",
    ")\n",
    "\n",
    "print(f\"Created index, index_id={response.id} name={response.name}\")\n",
    "\n",
    "for engine in response.engines:\n",
    "    print(f\"    engine_name={engine.name} options={engine.options}\")"
   ]
  },
  {
   "cell_type": "markdown",
   "metadata": {},
   "source": [
    "### Retrieve"
   ]
  },
  {
   "cell_type": "code",
   "execution_count": 4,
   "metadata": {},
   "outputs": [],
   "source": [
    "# index_id = \"\"\n",
    "index_id = response.id"
   ]
  },
  {
   "cell_type": "code",
   "execution_count": 5,
   "metadata": {},
   "outputs": [
    {
     "name": "stdout",
     "output_type": "stream",
     "text": [
      "Retrieve index_id=6719cfb8d4738093bb97ea18\n",
      "    Index(id='6719cfb8d4738093bb97ea18', created_at='2024-10-24T04:40:24.926Z', updated_at='2024-10-24T04:40:24.926Z', name='idx-3f8c8449-018a-4237-b70c-07e2ad9cb32d', engines=RootModelList[Engine](root=[Engine(name='marengo2.6', options=['visual', 'conversation', 'text_in_video'], addons=None, finetuned=False), Engine(name='pegasus1.1', options=['visual', 'conversation'], addons=None, finetuned=False)]), video_count=0, total_duration=0.0, expires_at='2025-01-22T04:40:24.926Z')\n"
     ]
    }
   ],
   "source": [
    "from twelvelabs import TwelveLabs\n",
    "from twelvelabs.models.index import Index\n",
    "\n",
    "import time\n",
    "\n",
    "# Initialize Client\n",
    "client = TwelveLabs(api_key=api_key)\n",
    "\n",
    "#\n",
    "response = client.index.retrieve(index_id)\n",
    "\n",
    "print(f\"Retrieve index_id={index_id}\")\n",
    "print(f\"    {response}\")"
   ]
  },
  {
   "cell_type": "markdown",
   "metadata": {},
   "source": [
    "### List"
   ]
  },
  {
   "cell_type": "code",
   "execution_count": 6,
   "metadata": {},
   "outputs": [
    {
     "name": "stdout",
     "output_type": "stream",
     "text": [
      "    index_id=6719cfb8d4738093bb97ea18 name=idx-3f8c8449-018a-4237-b70c-07e2ad9cb32d engines=root=[Engine(name='marengo2.6', options=['visual', 'conversation', 'text_in_video'], addons=None, finetuned=False), Engine(name='pegasus1.1', options=['visual', 'conversation'], addons=None, finetuned=False)] created_at=2024-10-24T04:40:24.926Z\n",
      "    index_id=6709d85a40f1b7df6d03d812 name=My Index (Default) engines=root=[Engine(name='marengo2.6', options=['visual', 'conversation'], addons=None, finetuned=False), Engine(name='pegasus1.1', options=['visual', 'conversation'], addons=None, finetuned=False)] created_at=2024-10-12T02:00:58.916Z\n",
      "\n",
      "With pagination: \n",
      "    current page,\n",
      "    index_id=6719cfb8d4738093bb97ea18 name=idx-3f8c8449-018a-4237-b70c-07e2ad9cb32d engines=root=[Engine(name='marengo2.6', options=['visual', 'conversation', 'text_in_video'], addons=None, finetuned=False), Engine(name='pegasus1.1', options=['visual', 'conversation'], addons=None, finetuned=False)] created_at=2024-10-24T04:40:24.926Z\n",
      "    current page,\n",
      "    index_id=6709d85a40f1b7df6d03d812 name=My Index (Default) engines=root=[Engine(name='marengo2.6', options=['visual', 'conversation'], addons=None, finetuned=False), Engine(name='pegasus1.1', options=['visual', 'conversation'], addons=None, finetuned=False)] created_at=2024-10-12T02:00:58.916Z\n",
      "There is no next page in search result\n"
     ]
    }
   ],
   "source": [
    "from twelvelabs import TwelveLabs\n",
    "from twelvelabs.models.index import IndexListWithPagination\n",
    "\n",
    "import time\n",
    "\n",
    "# Initialize Client\n",
    "client = TwelveLabs(api_key=api_key)\n",
    "\n",
    "# \n",
    "response = client.index.list(\n",
    "    page=1,\n",
    "    page_limit=10,\n",
    "    sort_by=\"created_at\",\n",
    "    sort_option=\"desc\"\n",
    ")\n",
    "\n",
    "for index in response:\n",
    "    print(f\"    index_id={index.id} name={index.name} engines={index.engines} created_at={index.created_at}\")\n",
    "\n",
    "# with pagination\n",
    "print(\"\\nWith pagination: \")\n",
    "response = client.index.list_pagination(\n",
    "    page=1,\n",
    "    page_limit=1,\n",
    "    sort_by=\"created_at\",\n",
    "    sort_option=\"desc\"\n",
    ")\n",
    "\n",
    "def show_response(data: IndexListWithPagination):\n",
    "    print(\"    current page,\")\n",
    "    for index in data:\n",
    "        print(f\"    index_id={index.id} name={index.name} engines={index.engines} created_at={index.created_at}\")\n",
    "\n",
    "show_response(response.data)\n",
    "\n",
    "while True:\n",
    "    try:\n",
    "        show_response(next(response))\n",
    "    except StopIteration:\n",
    "        print(\"There is no next page in search result\")\n",
    "        break"
   ]
  }
 ],
 "metadata": {
  "kernelspec": {
   "display_name": "twelvelabs-api-OBFinDJb",
   "language": "python",
   "name": "python3"
  },
  "language_info": {
   "codemirror_mode": {
    "name": "ipython",
    "version": 3
   },
   "file_extension": ".py",
   "mimetype": "text/x-python",
   "name": "python",
   "nbconvert_exporter": "python",
   "pygments_lexer": "ipython3",
   "version": "3.12.6"
  }
 },
 "nbformat": 4,
 "nbformat_minor": 2
}
