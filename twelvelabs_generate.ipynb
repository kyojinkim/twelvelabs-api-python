{
 "cells": [
  {
   "cell_type": "markdown",
   "metadata": {},
   "source": [
    "# Generate\n",
    "\n",
    "### SDK\n",
    "https://github.com/twelvelabs-io/twelvelabs-python?tab=readme-ov-file\n",
    "\n",
    "https://github.com/twelvelabs-io/twelvelabs-python/blob/main/API.md\n",
    "\n",
    "### API Reference\n",
    "https://docs.twelvelabs.io/reference/generate-text-from-video-1"
   ]
  },
  {
   "cell_type": "markdown",
   "metadata": {},
   "source": [
    "## Variables"
   ]
  },
  {
   "cell_type": "code",
   "execution_count": 1,
   "metadata": {},
   "outputs": [],
   "source": [
    "api_key = \"\"\n",
    "\n",
    "video_id = \"\""
   ]
  },
  {
   "cell_type": "markdown",
   "metadata": {},
   "source": [
    "## Summary"
   ]
  },
  {
   "cell_type": "code",
   "execution_count": 2,
   "metadata": {},
   "outputs": [],
   "source": [
    "generate_type = \"summary\" # summary, chapter, highlight\n",
    "generate_prompt = \"writing for a vlog post\"\n",
    "generate_temperature = 1.0"
   ]
  },
  {
   "cell_type": "code",
   "execution_count": 3,
   "metadata": {},
   "outputs": [
    {
     "name": "stdout",
     "output_type": "stream",
     "text": [
      "id is 7f7d56ec-a98f-42f3-978f-bc252c113730:\n",
      "    In this engaging vlog post, a popular Korean YouTuber takes viewers on a comprehensive journey through a taste test and review of various coffee products. Starting with an enthusiastic introduction, he sets the stage by presenting the wide array of coffee brands and types he will be evaluating. The segment's purpose is to deliver transparent and unbiased assessments, facilitated through a blind taste test format to ensure objective reviews.\n",
      "The host meticulously tastes each coffee, sharing rich and evocative descriptions of their flavors, aromas, and textures. He delves into details, exploring the distinctive notes—such as citrus, caramel, and floral hints—and examining the balance and overall sensory experience of each coffee. Throughout the vlog, he keeps the mood light and engaging, providing personal anecdotes and comparisons to help viewers relate to his experiences.\n",
      "As the review progresses, the host categorizes the coffees into different quality tiers, explaining his reasoning for each designation. He particularly highlights two hidden missions: identifying decaffeinated coffee among the samples and pinpointing an expensive, high-quality coffee to see how it stacks up against the others. Each coffee is carefully evaluated based on balance, acidity, and the harmony of flavors, resulting in a nuanced and intricate ranking system.\n",
      "The vlog takes a deeper dive into the specifics of some standout coffees, discussing the subtle differences in roasting techniques and how these impact flavor profiles. He identifies qualities such as overall smoothness, complexity, and aromatic appeal, providing insightful commentary that coffee enthusiasts and casual drinkers alike can appreciate. The conversation extends into technical aspects, like the effect of different coffee preparation methods, including instant and stick coffee, and how they compare to freshly brewed options.\n",
      "Highlighting key findings, the host reveals his favorite and least favorite coffees, elaborating on what sets the top contenders apart. He praises exceptional blends for their ability to maintain flavor integrity even as they cool, emphasizing the merits of well-balanced acidity and sweetness. Notably, some popular brands, like Starbucks and Ediya, make recurring appearances, either impressing or falling short based on their latest iterations.\n",
      "The video culminates in a summary of the host's final thoughts, where he shares the ultimate rankings and his personal top picks. He underscores that individual preferences play a significant role in coffee selection, encouraging viewers to try the reviewed products themselves and discover their own favorites. The vlog concludes with a warm thank you to the audience for tuning in, with an invitation to like, share, and comment with their own coffee experiences and suggestions for future reviews.\n",
      "Overall, this vlog blends thorough coffee analysis with an approachable and entertaining presentation, making it an excellent resource for anyone looking to explore new coffee options or deepen their understanding of the diverse world of coffee.\n"
     ]
    }
   ],
   "source": [
    "from twelvelabs import TwelveLabs\n",
    "from twelvelabs.models.generate import GenerateSummarizeResult\n",
    "\n",
    "import time\n",
    "\n",
    "# Initialize Client\n",
    "client = TwelveLabs(api_key=api_key)\n",
    "\n",
    "# Summarize\n",
    "response = client.generate.summarize(\n",
    "    video_id=video_id,\n",
    "    type=generate_type,\n",
    "    prompt=generate_prompt,\n",
    "    temperature=generate_temperature\n",
    ")\n",
    "\n",
    "print(f\"id is {response.id}:\")\n",
    "print(f\"    {response.summary}\")"
   ]
  },
  {
   "cell_type": "markdown",
   "metadata": {},
   "source": [
    "## Highlight"
   ]
  },
  {
   "cell_type": "code",
   "execution_count": 4,
   "metadata": {},
   "outputs": [],
   "source": [
    "generate_type = \"highlight\" # summary, chapter, highlight\n",
    "generate_prompt = \"dramatic tone of voice\"\n",
    "generate_temperature = 1.0"
   ]
  },
  {
   "cell_type": "code",
   "execution_count": 5,
   "metadata": {},
   "outputs": [
    {
     "name": "stdout",
     "output_type": "stream",
     "text": [
      "id is 7e121872-24d9-4477-b8e9-e97fac279aec:\n",
      "    start=0, end=8, highlight=Introduction and Setup\n",
      "    start=18, end=43, highlight=Taste Test Begins\n",
      "    start=101, end=126, highlight=First Impressions and Struggles\n",
      "    start=233, end=261, highlight=Decaf Challenge\n",
      "    start=315, end=340, highlight=Ranking Intrigues\n",
      "    start=476, end=496, highlight=Top Picks Revealed\n",
      "    start=563, end=588, highlight=Popular Brands Analyzed\n",
      "    start=817, end=836, highlight=Luxury Brands Comparison\n",
      "    start=900, end=928, highlight=Final Words and Reflections\n",
      "    start=930, end=952, highlight=Personal Commentary\n"
     ]
    }
   ],
   "source": [
    "from twelvelabs import TwelveLabs\n",
    "from twelvelabs.models.generate import GenerateSummarizeResult\n",
    "\n",
    "import time\n",
    "\n",
    "# Initialize Client\n",
    "client = TwelveLabs(api_key=api_key)\n",
    "\n",
    "# Summarize\n",
    "response = client.generate.summarize(\n",
    "    video_id=video_id,\n",
    "    type=generate_type,\n",
    "    prompt=generate_prompt,\n",
    "    temperature=generate_temperature\n",
    ")\n",
    "\n",
    "print(f\"id is {response.id}:\")\n",
    "for highlight in response.highlights:\n",
    "    print(f\"    start={highlight.start}, end={highlight.end}, highlight={highlight.highlight}\")"
   ]
  },
  {
   "cell_type": "markdown",
   "metadata": {},
   "source": [
    "## Chapter"
   ]
  },
  {
   "cell_type": "code",
   "execution_count": 6,
   "metadata": {},
   "outputs": [],
   "source": [
    "generate_type = \"chapter\" # summary, chapter, highlight\n",
    "generate_prompt = \"maximum 5 chapter\"\n",
    "generate_temperature = 1.0"
   ]
  },
  {
   "cell_type": "code",
   "execution_count": 7,
   "metadata": {},
   "outputs": [
    {
     "name": "stdout",
     "output_type": "stream",
     "text": [
      "id is 83c55352-5ef3-45d8-881f-cb7c1bcbb23c:\n",
      "    start=0.0, end=70.0, title=Introduction and First Impressions, summary=The host introduces the coffee tasting segment and begins by tasting the first few coffee products. Throughout this chapter, he sets up the scene and explains the brands and types of coffee being evaluated.\n",
      "    start=71.0, end=180.0, title=Detailed Evaluations and Comparisons, summary=The host continues to evaluate and compare different coffee products. He provides detailed descriptions of their flavors, aromas, and textures while offering personal preferences and insights.\n",
      "    start=181.0, end=360.0, title=Blind Taste Test and Intermediate Conclusions, summary=The host conducts a blind taste test, ensuring unbiased evaluations. He compares and contrasts several coffee products, sharing his honest thoughts and identifying noteworthy characteristics.\n",
      "    start=361.0, end=540.0, title=Final Evaluations and Recommendations, summary=The host wraps up the taste test by summarizing his thoughts on each coffee product. He highlights his favorite coffees and offers final recommendations to the viewers.\n",
      "    start=541.0, end=953.0, title=Closing Thoughts and Viewer Engagement, summary=The host presents the final results of the taste test, discussing the standout products and their qualities. He engages with the audience, encouraging them to share their opinions and try the products themselves.\n"
     ]
    }
   ],
   "source": [
    "from twelvelabs import TwelveLabs\n",
    "from twelvelabs.models.generate import GenerateSummarizeResult\n",
    "\n",
    "import time\n",
    "\n",
    "# Initialize Client\n",
    "client = TwelveLabs(api_key=api_key)\n",
    "\n",
    "# Summarize\n",
    "response = client.generate.summarize(\n",
    "    video_id=video_id,\n",
    "    type=generate_type,\n",
    "    prompt=generate_prompt,\n",
    "    temperature=generate_temperature\n",
    ")\n",
    "\n",
    "print(f\"id is {response.id}:\")\n",
    "for chapter in response.chapters:\n",
    "    print(f\"    start={chapter.start}, end={chapter.end}, title={chapter.chapter_title}, summary={chapter.chapter_summary}\")"
   ]
  }
 ],
 "metadata": {
  "kernelspec": {
   "display_name": "twelvelabs-api-OBFinDJb",
   "language": "python",
   "name": "python3"
  },
  "language_info": {
   "codemirror_mode": {
    "name": "ipython",
    "version": 3
   },
   "file_extension": ".py",
   "mimetype": "text/x-python",
   "name": "python",
   "nbconvert_exporter": "python",
   "pygments_lexer": "ipython3",
   "version": "3.12.6"
  }
 },
 "nbformat": 4,
 "nbformat_minor": 2
}
