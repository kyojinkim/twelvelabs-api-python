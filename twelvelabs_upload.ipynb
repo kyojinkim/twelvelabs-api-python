{
 "cells": [
  {
   "cell_type": "markdown",
   "metadata": {},
   "source": [
    "# Upload Video\n",
    "\n",
    "### SDK\n",
    "https://github.com/twelvelabs-io/twelvelabs-python?tab=readme-ov-file\n",
    "\n",
    "https://github.com/twelvelabs-io/twelvelabs-python/blob/main/API.md\n",
    "\n",
    "### API Reference\n",
    "https://docs.twelvelabs.io/reference/upload-videos-1"
   ]
  },
  {
   "cell_type": "markdown",
   "metadata": {},
   "source": [
    "## Variables"
   ]
  },
  {
   "cell_type": "code",
   "execution_count": 1,
   "metadata": {},
   "outputs": [],
   "source": [
    "api_key = \"\""
   ]
  },
  {
   "cell_type": "markdown",
   "metadata": {},
   "source": [
    "## File"
   ]
  },
  {
   "cell_type": "code",
   "execution_count": 2,
   "metadata": {},
   "outputs": [],
   "source": [
    "index_id = \"\"\n",
    "video_path = \"\""
   ]
  },
  {
   "cell_type": "code",
   "execution_count": 3,
   "metadata": {},
   "outputs": [
    {
     "name": "stdout",
     "output_type": "stream",
     "text": [
      "Task id is 6718ae8ba9b0cd50a4159010\n",
      "Status is pending, Lap Time=5.54 seconds\n",
      "Status is indexing, Lap Time=33.17 seconds\n",
      "Status is ready, Lap Time=204.60 seconds\n",
      "The unique identifer of your video is 6718ae8d3150182ecec00488, took 243.31388092041016 seconds.\n"
     ]
    }
   ],
   "source": [
    "from twelvelabs import TwelveLabs\n",
    "from twelvelabs.models.task import Task\n",
    "\n",
    "import time\n",
    "\n",
    "# Initialize Client\n",
    "client = TwelveLabs(api_key=api_key)\n",
    "status = \"\"\n",
    "\n",
    "# Upload Video\n",
    "response = client.task.create(\n",
    "    index_id=index_id,\n",
    "    file=video_path\n",
    "    # transcription_file=\"<YOUR_TRANSCRIPTION_FILE>\" # Optional\n",
    ")\n",
    "print(f\"Task id is {response.id}\")\n",
    "\n",
    "# Measure time\n",
    "start_time = time.time()\n",
    "last_time = start_time\n",
    "\n",
    "def on_task_update(task: Task):\n",
    "    global status, last_time\n",
    "    if task.status != status:\n",
    "        current_time = time.time()\n",
    "        lap_time = current_time - last_time\n",
    "\n",
    "        print(f\"Status is {task.status}, Lap Time={lap_time:.2f} seconds\")\n",
    "        status = task.status\n",
    "        last_time = current_time\n",
    "\n",
    "    return\n",
    "\n",
    "response.wait_for_done(sleep_interval=5, callback=on_task_update)\n",
    "\n",
    "end_time = time.time()\n",
    "taken_time = end_time - start_time\n",
    "\n",
    "if response.status != \"ready\":\n",
    "    raise RuntimeError(f\"Indexing failed with status {response.status}\")\n",
    "\n",
    "print(f\"The unique identifer of your video is {response.video_id}, took {taken_time} seconds.\")"
   ]
  },
  {
   "cell_type": "markdown",
   "metadata": {},
   "source": [
    "## Url"
   ]
  },
  {
   "cell_type": "code",
   "execution_count": 2,
   "metadata": {},
   "outputs": [],
   "source": [
    "index_id = \"\"\n",
    "video_url = \"\""
   ]
  },
  {
   "cell_type": "code",
   "execution_count": null,
   "metadata": {},
   "outputs": [],
   "source": [
    "from twelvelabs import TwelveLabs\n",
    "from twelvelabs.models.task import Task\n",
    "\n",
    "import time\n",
    "\n",
    "# Initialize Client\n",
    "client = TwelveLabs(api_key=api_key)\n",
    "\n",
    "# Url\n",
    "task = client.task.create(\n",
    "    index_id=index_id,\n",
    "    url=video_url\n",
    "    # transcription_file=\"<YOUR_TRANSCRIPTION_FILE>\" # Optional\n",
    ")\n",
    "print(f\"Task id is {task.id}\")\n",
    "\n",
    "# Measure time\n",
    "start_time = time.time()\n",
    "\n",
    "def on_task_update(task: Task):\n",
    "    print(f\"  Status={task.status}\")\n",
    "\n",
    "task.wait_for_done(sleep_interval=5, callback=on_task_update)\n",
    "\n",
    "end_time = time.time()\n",
    "taken_time = end_time - start_time\n",
    "\n",
    "if task.status != \"ready\":\n",
    "    raise RuntimeError(f\"Indexing failed with status {task.status}\")\n",
    "\n",
    "print(f\"The unique identifer of your video is {task.video_id}, took {taken_time} seconds.\")"
   ]
  }
 ],
 "metadata": {
  "kernelspec": {
   "display_name": "twelvelabs-api-OBFinDJb",
   "language": "python",
   "name": "python3"
  },
  "language_info": {
   "codemirror_mode": {
    "name": "ipython",
    "version": 3
   },
   "file_extension": ".py",
   "mimetype": "text/x-python",
   "name": "python",
   "nbconvert_exporter": "python",
   "pygments_lexer": "ipython3",
   "version": "3.12.6"
  }
 },
 "nbformat": 4,
 "nbformat_minor": 2
}
